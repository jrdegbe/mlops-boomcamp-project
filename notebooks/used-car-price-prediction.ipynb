{
 "cells": [
  {
   "cell_type": "markdown",
   "id": "f31a3485",
   "metadata": {},
   "source": [
    "# Authenticating with Kaggle using kaggle.json\n",
    "\n",
    "Navigate to https://www.kaggle.com. \n",
    "Then go to the [Account tab of your user profile](https://www.kaggle.com/me/account) and select Create API Token. \n",
    "This will trigger the download of `kaggle.json`, a file containing your API credentials.\n",
    "\n",
    "Run the following cell, or just copy from the `kaggle.json` file and paste the username and key to the environment variables below."
   ]
  },
  {
   "cell_type": "code",
   "execution_count": 1,
   "id": "277d7c18",
   "metadata": {},
   "outputs": [],
   "source": [
    "#import os\n",
    "#from pathlib import Path\n",
    "\n",
    "#def kaggle_key(path: str) -> None:\n",
    "    #path = Path(path).expanduser()\n",
    "    \n",
    "    # Does the file exist?\n",
    "    #if Path.exists(path):\n",
    "       #print(f\"Path: {path}\")\n",
    "        \n",
    "        # Open the JSON file\n",
    "        #with open(path) as json_file:\n",
    "           # data = json.load(json_file)\n",
    "\n",
    "        # Extract the username and key\n",
    "        #print(f\"Username: {data['username']}\")\n",
    "       # print(f\"Key: {data['key'][:16]}...\")\n",
    "\n",
    "        # Create environmental variables\n",
    "       # os.environ['KAGGLE_USERNAME'] = data['username']\n",
    "        ##os.environ['KAGGLE_KEY'] = data['key']\n",
    "    \n",
    "#kaggle_key(\"~/downloads/kaggle.json\")\n",
    "#kaggle_key(\"../kaggle.json\")"
   ]
  },
  {
   "cell_type": "code",
   "execution_count": 2,
   "id": "26c637b3",
   "metadata": {},
   "outputs": [],
   "source": [
    "import os\n",
    "\n",
    "os.environ['KAGGLE_USERNAME'] = \"derek560\"\n",
    "os.environ['KAGGLE_KEY'] = \"cf1dc42c6c72669d7f1ec0a9bbad91e1\""
   ]
  },
  {
   "cell_type": "markdown",
   "id": "5ed97bfb",
   "metadata": {},
   "source": [
    "# Used Car Price Prediction\n",
    "\n",
    "This [data](https://www.kaggle.com/datasets/austinreese/craigslist-carstrucks-data) contains \n",
    "most all relevant information that Craigslist provides on car sales including \n",
    "columns like price, condition, manufacturer, latitude/longitude, and 18 other categories.\n",
    "\n",
    "This notebook was built from the following:\n",
    "\n",
    "* https://www.kaggle.com/code/maciejautuch/car-price-prediction\n",
    "* https://www.kaggle.com/code/hemprakashprasanna/used-car-price-prediction"
   ]
  },
  {
   "cell_type": "markdown",
   "id": "e1b359f7",
   "metadata": {},
   "source": [
    "# Download the dataset"
   ]
  },
  {
   "cell_type": "code",
   "execution_count": 3,
   "id": "ba3dc7e1",
   "metadata": {},
   "outputs": [
    {
     "name": "stdout",
     "output_type": "stream",
     "text": [
      "Kaggle API 1.5.16\n"
     ]
    }
   ],
   "source": [
    "import kaggle\n",
    "\n",
    "!kaggle --version"
   ]
  },
  {
   "cell_type": "code",
   "execution_count": 4,
   "id": "22259b7e",
   "metadata": {},
   "outputs": [],
   "source": [
    "# Kaggle URL dataset\n",
    "# https://www.kaggle.com/datasets/derek560/craigslist-carstrucks-data\n",
    "#DATASET = 'derek560/craigslist-carstrucks-data'\n",
    "#PATH = '/Users/jrdegbe/Desktop/DataMasters/Data_Science_Track/week-ten/day_one/mlops-project/vehicles.csv'\n",
    "#FILE_NAME = '/Users/jrdegbe/Desktop/DataMasters/Data_Science_Track/week-ten/day_one/mlops-project/archive.zip'\n",
    "\n",
    "#!kaggle datasets download $DATASET -p $PATH"
   ]
  },
  {
   "cell_type": "code",
   "execution_count": 5,
   "id": "94056323",
   "metadata": {},
   "outputs": [],
   "source": [
    "import pandas as pd\n",
    "\n",
    "df = pd.read_csv('/Users/jrdegbe/Desktop/DataMasters/Data_Science_Track/week-ten/day_one/mlops-project/vehicles.csv')"
   ]
  },
  {
   "cell_type": "markdown",
   "id": "46f82e3c",
   "metadata": {},
   "source": [
    "# Feature engineering"
   ]
  },
  {
   "cell_type": "code",
   "execution_count": 6,
   "id": "3e80d399",
   "metadata": {},
   "outputs": [
    {
     "data": {
      "text/plain": [
       "Index(['id', 'url', 'region', 'region_url', 'price', 'year', 'manufacturer',\n",
       "       'model', 'condition', 'cylinders', 'fuel', 'odometer', 'title_status',\n",
       "       'transmission', 'VIN', 'drive', 'size', 'type', 'paint_color',\n",
       "       'image_url', 'description', 'county', 'state', 'lat', 'long',\n",
       "       'posting_date'],\n",
       "      dtype='object')"
      ]
     },
     "execution_count": 6,
     "metadata": {},
     "output_type": "execute_result"
    }
   ],
   "source": [
    "df.columns"
   ]
  },
  {
   "cell_type": "code",
   "execution_count": 7,
   "id": "5f476cd9",
   "metadata": {},
   "outputs": [
    {
     "data": {
      "text/html": [
       "<div>\n",
       "<style scoped>\n",
       "    .dataframe tbody tr th:only-of-type {\n",
       "        vertical-align: middle;\n",
       "    }\n",
       "\n",
       "    .dataframe tbody tr th {\n",
       "        vertical-align: top;\n",
       "    }\n",
       "\n",
       "    .dataframe thead th {\n",
       "        text-align: right;\n",
       "    }\n",
       "</style>\n",
       "<table border=\"1\" class=\"dataframe\">\n",
       "  <thead>\n",
       "    <tr style=\"text-align: right;\">\n",
       "      <th></th>\n",
       "      <th>id</th>\n",
       "      <th>url</th>\n",
       "      <th>region</th>\n",
       "      <th>region_url</th>\n",
       "      <th>price</th>\n",
       "      <th>year</th>\n",
       "      <th>manufacturer</th>\n",
       "      <th>model</th>\n",
       "      <th>condition</th>\n",
       "      <th>cylinders</th>\n",
       "      <th>...</th>\n",
       "      <th>size</th>\n",
       "      <th>type</th>\n",
       "      <th>paint_color</th>\n",
       "      <th>image_url</th>\n",
       "      <th>description</th>\n",
       "      <th>county</th>\n",
       "      <th>state</th>\n",
       "      <th>lat</th>\n",
       "      <th>long</th>\n",
       "      <th>posting_date</th>\n",
       "    </tr>\n",
       "  </thead>\n",
       "  <tbody>\n",
       "    <tr>\n",
       "      <th>0</th>\n",
       "      <td>7222695916</td>\n",
       "      <td>https://prescott.craigslist.org/cto/d/prescott...</td>\n",
       "      <td>prescott</td>\n",
       "      <td>https://prescott.craigslist.org</td>\n",
       "      <td>6000</td>\n",
       "      <td>NaN</td>\n",
       "      <td>NaN</td>\n",
       "      <td>NaN</td>\n",
       "      <td>NaN</td>\n",
       "      <td>NaN</td>\n",
       "      <td>...</td>\n",
       "      <td>NaN</td>\n",
       "      <td>NaN</td>\n",
       "      <td>NaN</td>\n",
       "      <td>NaN</td>\n",
       "      <td>NaN</td>\n",
       "      <td>NaN</td>\n",
       "      <td>az</td>\n",
       "      <td>NaN</td>\n",
       "      <td>NaN</td>\n",
       "      <td>NaN</td>\n",
       "    </tr>\n",
       "    <tr>\n",
       "      <th>1</th>\n",
       "      <td>7218891961</td>\n",
       "      <td>https://fayar.craigslist.org/ctd/d/bentonville...</td>\n",
       "      <td>fayetteville</td>\n",
       "      <td>https://fayar.craigslist.org</td>\n",
       "      <td>11900</td>\n",
       "      <td>NaN</td>\n",
       "      <td>NaN</td>\n",
       "      <td>NaN</td>\n",
       "      <td>NaN</td>\n",
       "      <td>NaN</td>\n",
       "      <td>...</td>\n",
       "      <td>NaN</td>\n",
       "      <td>NaN</td>\n",
       "      <td>NaN</td>\n",
       "      <td>NaN</td>\n",
       "      <td>NaN</td>\n",
       "      <td>NaN</td>\n",
       "      <td>ar</td>\n",
       "      <td>NaN</td>\n",
       "      <td>NaN</td>\n",
       "      <td>NaN</td>\n",
       "    </tr>\n",
       "    <tr>\n",
       "      <th>2</th>\n",
       "      <td>7221797935</td>\n",
       "      <td>https://keys.craigslist.org/cto/d/summerland-k...</td>\n",
       "      <td>florida keys</td>\n",
       "      <td>https://keys.craigslist.org</td>\n",
       "      <td>21000</td>\n",
       "      <td>NaN</td>\n",
       "      <td>NaN</td>\n",
       "      <td>NaN</td>\n",
       "      <td>NaN</td>\n",
       "      <td>NaN</td>\n",
       "      <td>...</td>\n",
       "      <td>NaN</td>\n",
       "      <td>NaN</td>\n",
       "      <td>NaN</td>\n",
       "      <td>NaN</td>\n",
       "      <td>NaN</td>\n",
       "      <td>NaN</td>\n",
       "      <td>fl</td>\n",
       "      <td>NaN</td>\n",
       "      <td>NaN</td>\n",
       "      <td>NaN</td>\n",
       "    </tr>\n",
       "  </tbody>\n",
       "</table>\n",
       "<p>3 rows × 26 columns</p>\n",
       "</div>"
      ],
      "text/plain": [
       "           id                                                url  \\\n",
       "0  7222695916  https://prescott.craigslist.org/cto/d/prescott...   \n",
       "1  7218891961  https://fayar.craigslist.org/ctd/d/bentonville...   \n",
       "2  7221797935  https://keys.craigslist.org/cto/d/summerland-k...   \n",
       "\n",
       "         region                       region_url  price  year manufacturer  \\\n",
       "0      prescott  https://prescott.craigslist.org   6000   NaN          NaN   \n",
       "1  fayetteville     https://fayar.craigslist.org  11900   NaN          NaN   \n",
       "2  florida keys      https://keys.craigslist.org  21000   NaN          NaN   \n",
       "\n",
       "  model condition cylinders  ... size  type paint_color image_url description  \\\n",
       "0   NaN       NaN       NaN  ...  NaN   NaN         NaN       NaN         NaN   \n",
       "1   NaN       NaN       NaN  ...  NaN   NaN         NaN       NaN         NaN   \n",
       "2   NaN       NaN       NaN  ...  NaN   NaN         NaN       NaN         NaN   \n",
       "\n",
       "  county state lat long posting_date  \n",
       "0    NaN    az NaN  NaN          NaN  \n",
       "1    NaN    ar NaN  NaN          NaN  \n",
       "2    NaN    fl NaN  NaN          NaN  \n",
       "\n",
       "[3 rows x 26 columns]"
      ]
     },
     "execution_count": 7,
     "metadata": {},
     "output_type": "execute_result"
    }
   ],
   "source": [
    "df"
   ]
  },
  {
   "cell_type": "markdown",
   "id": "d0713fc5",
   "metadata": {},
   "source": [
    "## Missing Values"
   ]
  },
  {
   "cell_type": "code",
   "execution_count": 8,
   "id": "3907b8bb",
   "metadata": {},
   "outputs": [
    {
     "data": {
      "text/plain": [
       "county          100.000000\n",
       "size             71.767476\n",
       "cylinders        41.622470\n",
       "condition        40.785232\n",
       "VIN              37.725356\n",
       "drive            30.586347\n",
       "paint_color      30.501078\n",
       "type             21.752717\n",
       "manufacturer      4.133714\n",
       "title_status      1.930753\n",
       "long              1.534155\n",
       "lat               1.534155\n",
       "model             1.236179\n",
       "odometer          1.030735\n",
       "fuel              0.705819\n",
       "transmission      0.598763\n",
       "year              0.282281\n",
       "description       0.016398\n",
       "image_url         0.015930\n",
       "posting_date      0.015930\n",
       "dtype: float64"
      ]
     },
     "execution_count": 8,
     "metadata": {},
     "output_type": "execute_result"
    }
   ],
   "source": [
    "# Calculate the percentage of nulls in each of the above features.\n",
    "nulls_perc = df.isna().sum()/len(df)*100\n",
    "nulls_perc[nulls_perc.values>0].sort_values(ascending=False)"
   ]
  },
  {
   "cell_type": "code",
   "execution_count": 9,
   "id": "3debb5d0",
   "metadata": {},
   "outputs": [],
   "source": [
    "# Drop 'county' and 'size' features which have more than 50% of their data missing\n",
    "df.drop(['county','size'], axis = 'columns', inplace = True)"
   ]
  },
  {
   "cell_type": "code",
   "execution_count": 10,
   "id": "52235c17",
   "metadata": {},
   "outputs": [
    {
     "data": {
      "text/plain": [
       "Index(['manufacturer', 'title_status', 'lat', 'long', 'model', 'odometer',\n",
       "       'fuel', 'transmission', 'year', 'description', 'image_url',\n",
       "       'posting_date'],\n",
       "      dtype='object')"
      ]
     },
     "execution_count": 10,
     "metadata": {},
     "output_type": "execute_result"
    }
   ],
   "source": [
    "# Get the features which have less than 5% of their data missing\n",
    "lst = nulls_perc[(nulls_perc.values>0) & (nulls_perc.values<5)].sort_values(ascending=False).index\n",
    "lst"
   ]
  },
  {
   "cell_type": "code",
   "execution_count": 11,
   "id": "6c765ea8",
   "metadata": {},
   "outputs": [],
   "source": [
    "# Drop the rows in the above features that have missing values\n",
    "for features in lst:\n",
    "    df.dropna(subset=[features], inplace=True, axis='index')"
   ]
  },
  {
   "cell_type": "code",
   "execution_count": 12,
   "id": "54e1743c",
   "metadata": {},
   "outputs": [
    {
     "data": {
      "text/plain": [
       "cylinders      41.843400\n",
       "condition      39.661318\n",
       "VIN            36.963183\n",
       "drive          29.768936\n",
       "paint_color    29.260705\n",
       "type           21.485474\n",
       "dtype: float64"
      ]
     },
     "execution_count": 12,
     "metadata": {},
     "output_type": "execute_result"
    }
   ],
   "source": [
    "# Re-Calculate the percentage of nulls in each of the above features\n",
    "nulls_perc = df.isna().sum()/len(df)*100\n",
    "nulls_perc[nulls_perc.values>0].sort_values(ascending=False)"
   ]
  },
  {
   "cell_type": "code",
   "execution_count": 13,
   "id": "5f7bcc93",
   "metadata": {},
   "outputs": [
    {
     "name": "stdout",
     "output_type": "stream",
     "text": [
      "Column name: cylinders\n",
      "cylinders\n",
      "NaN             160464\n",
      "6 cylinders      84745\n",
      "4 cylinders      69547\n",
      "8 cylinders      64506\n",
      "5 cylinders       1522\n",
      "10 cylinders      1291\n",
      "other              799\n",
      "3 cylinders        505\n",
      "12 cylinders       108\n",
      "Name: count, dtype: int64\n",
      " \n",
      "Column name: condition\n",
      "condition\n",
      "NaN          152096\n",
      "good         114699\n",
      "excellent     89212\n",
      "like new      19946\n",
      "fair           5910\n",
      "new            1093\n",
      "salvage         531\n",
      "Name: count, dtype: int64\n",
      " \n",
      "Column name: VIN\n",
      "VIN\n",
      "NaN                  141749\n",
      "1FMJU1JT1HEA52352       261\n",
      "3C6JR6DT3KG560649       235\n",
      "1FTER1EH1LLA36301       231\n",
      "5TFTX4CN3EX042751       227\n",
      "                      ...  \n",
      "1FAHP2KT2AG117594         1\n",
      "1GKKVTKD4EJ233137         1\n",
      "2GNAXJEV8K6267690         1\n",
      "2C3CCAKG2JH160208         1\n",
      "SAJGX2749VCOO8376         1\n",
      "Name: count, Length: 107440, dtype: int64\n",
      " \n",
      "Column name: drive\n",
      "drive\n",
      "4wd    120840\n",
      "NaN    114160\n",
      "fwd     97789\n",
      "rwd     50698\n",
      "Name: count, dtype: int64\n",
      " \n",
      "Column name: paint_color\n",
      "paint_color\n",
      "NaN       112211\n",
      "white      70937\n",
      "black      58416\n",
      "silver     39936\n",
      "blue       28964\n",
      "red        27750\n",
      "grey       22495\n",
      "green       6510\n",
      "brown       6132\n",
      "custom      6093\n",
      "orange      1749\n",
      "yellow      1698\n",
      "purple       596\n",
      "Name: count, dtype: int64\n",
      " \n",
      "Column name: type\n",
      "type\n",
      "NaN            82394\n",
      "sedan          79618\n",
      "SUV            69891\n",
      "pickup         40413\n",
      "truck          31301\n",
      "other          18549\n",
      "coupe          16964\n",
      "hatchback      14949\n",
      "wagon          10011\n",
      "van             7224\n",
      "convertible     6820\n",
      "mini-van        4530\n",
      "offroad          549\n",
      "bus              274\n",
      "Name: count, dtype: int64\n",
      " \n"
     ]
    }
   ],
   "source": [
    "# Others columns with missing.\n",
    "def value_counts(column: str) -> None:\n",
    "    print(f\"Column name: {column}\")\n",
    "    print(df[column].value_counts(dropna=False))\n",
    "    print(\" \")\n",
    "    \n",
    "value_counts('cylinders')\n",
    "value_counts('condition')\n",
    "value_counts('VIN')\n",
    "value_counts('drive')\n",
    "value_counts('paint_color')\n",
    "value_counts('type')"
   ]
  },
  {
   "cell_type": "code",
   "execution_count": 14,
   "id": "4d69268e",
   "metadata": {},
   "outputs": [
    {
     "data": {
      "text/plain": [
       "cylinders\n",
       "NaN      160464\n",
       "6         84745\n",
       "4         69547\n",
       "8         64506\n",
       "5          1522\n",
       "10         1291\n",
       "other       799\n",
       "3           505\n",
       "12          108\n",
       "Name: count, dtype: int64"
      ]
     },
     "execution_count": 14,
     "metadata": {},
     "output_type": "execute_result"
    }
   ],
   "source": [
    "# Stripping the word 'cylinders' from the 'cylinders' feature.\n",
    "df['cylinders'] = df['cylinders'].replace('cylinders','',regex=True)\n",
    "df['cylinders'] = df['cylinders'].str.strip()\n",
    "df['cylinders'].value_counts(dropna=False)"
   ]
  },
  {
   "cell_type": "code",
   "execution_count": 15,
   "id": "e107f347",
   "metadata": {},
   "outputs": [],
   "source": [
    "# Drop 'VIN' column which is useless.\n",
    "df.drop(['VIN'], axis = 'columns', inplace = True)"
   ]
  },
  {
   "cell_type": "code",
   "execution_count": 16,
   "id": "9f9d7da1",
   "metadata": {},
   "outputs": [
    {
     "name": "stdout",
     "output_type": "stream",
     "text": [
      "Column name: paint_color\n",
      "paint_color\n",
      "white     97329\n",
      "black     80443\n",
      "silver    54725\n",
      "blue      39622\n",
      "red       37981\n",
      "grey      30831\n",
      "NaN       11196\n",
      "green      8999\n",
      "custom     8407\n",
      "brown      8368\n",
      "orange     2422\n",
      "yellow     2347\n",
      "purple      817\n",
      "Name: count, dtype: int64\n",
      " \n"
     ]
    }
   ],
   "source": [
    "# Fill missing values in the ratio of non-null values in the feature.\n",
    "import numpy as np\n",
    "\n",
    "def fill_missing(column: str) -> None:\n",
    "    counts = df[column].value_counts(normalize=True)\n",
    "    df[column] = df[column].fillna(\n",
    "        pd.Series(np.random.choice(\n",
    "            list(counts.index), p=list(counts.values), size=len(df)\n",
    "        ))\n",
    "    )\n",
    "    value_counts('paint_color')\n",
    "\n",
    "fill_missing('paint_color')"
   ]
  },
  {
   "cell_type": "code",
   "execution_count": 17,
   "id": "48c96532",
   "metadata": {},
   "outputs": [
    {
     "data": {
      "text/plain": [
       "(125377, 23)"
      ]
     },
     "execution_count": 17,
     "metadata": {},
     "output_type": "execute_result"
    }
   ],
   "source": [
    "# Dropping all the rows that contain missing values\n",
    "df.dropna(axis='index', inplace=True)\n",
    "df.shape"
   ]
  },
  {
   "cell_type": "markdown",
   "id": "95675140",
   "metadata": {},
   "source": [
    "## Outliers"
   ]
  },
  {
   "cell_type": "code",
   "execution_count": 18,
   "id": "2432bd42",
   "metadata": {},
   "outputs": [
    {
     "name": "stdout",
     "output_type": "stream",
     "text": [
      "247.80000000000018 39990.0\n"
     ]
    }
   ],
   "source": [
    "# understanding the data structure and looking at car price distribution\n",
    "lower_limit = np.percentile(df[['price']], 5)\n",
    "upper_limit = np.percentile(df[['price']], 95)\n",
    "print(lower_limit, upper_limit)"
   ]
  },
  {
   "cell_type": "code",
   "execution_count": 19,
   "id": "c2fb8be8",
   "metadata": {},
   "outputs": [],
   "source": [
    "# Removing outliers\n",
    "df = df[(df['price'] >= lower_limit) & (df['price'] <= upper_limit)]  "
   ]
  },
  {
   "cell_type": "markdown",
   "id": "0d4fbc88",
   "metadata": {},
   "source": [
    "## Create new features"
   ]
  },
  {
   "cell_type": "code",
   "execution_count": 20,
   "id": "a06c7296",
   "metadata": {},
   "outputs": [],
   "source": [
    "df['posting_year'] = df['posting_date'].str[0:4].astype('int64')\n",
    "df['years_used'] = df['posting_year'] - df['year']\n",
    "\n",
    "# Changing year for a smaller number.\n",
    "df['year'] = df['year'].astype('int64') - 1900"
   ]
  },
  {
   "cell_type": "markdown",
   "id": "2c3bd137",
   "metadata": {},
   "source": [
    "## Label encoder"
   ]
  },
  {
   "cell_type": "code",
   "execution_count": 21,
   "id": "9ec2ed3a",
   "metadata": {},
   "outputs": [
    {
     "data": {
      "text/plain": [
       "array(['clean', 'rebuilt', 'salvage', 'missing', 'lien', 'parts only'],\n",
       "      dtype=object)"
      ]
     },
     "execution_count": 21,
     "metadata": {},
     "output_type": "execute_result"
    }
   ],
   "source": [
    "# Categorical data encoding - label enncoding\n",
    "df['title_status'].unique()"
   ]
  },
  {
   "cell_type": "code",
   "execution_count": 22,
   "id": "e8486f1b",
   "metadata": {},
   "outputs": [],
   "source": [
    "from sklearn import preprocessing\n",
    "\n",
    "label_encoder = preprocessing.LabelEncoder()\n",
    "df['title_status'] = label_encoder.fit_transform(df['title_status'])"
   ]
  },
  {
   "cell_type": "markdown",
   "id": "f05e4ea2",
   "metadata": {},
   "source": [
    "## Data Cleaning"
   ]
  },
  {
   "cell_type": "code",
   "execution_count": 23,
   "id": "8326d094",
   "metadata": {},
   "outputs": [
    {
     "data": {
      "text/plain": [
       "array([  8.,   9.,   5.,   2.,  10.,   4.,   3.,  17.,  20.,   7.,   1.,\n",
       "        18.,  13.,  14.,  15.,  16.,  11.,  12.,  19.,  26.,  47.,  25.,\n",
       "        66.,  49.,  27.,  33.,   6.,  21.,  24.,  42.,  37.,  23.,  22.,\n",
       "        43.,  45.,  30.,  68.,  58.,  53.,  28.,  31.,  39.,  73.,  35.,\n",
       "        70.,  85.,  55.,  32.,  54.,  40.,  74.,  29.,  59.,  48.,  36.,\n",
       "        46.,  63.,  57.,  88.,  44.,  50.,  75.,   0.,  34.,  91.,  52.,\n",
       "        41.,  62.,  56.,  93.,  51.,  92.,  89.,  65.,  97.,  94.,  69.,\n",
       "        82.,  38.,  79.,  64.,  98.,  87.,  81.,  60., 103.,  61.,  71.,\n",
       "        83.,  72., 121.,  90.,  95.,  84.,  67.,  -1.,  86.,  80., 116.,\n",
       "        96., 108.,  77.])"
      ]
     },
     "execution_count": 23,
     "metadata": {},
     "output_type": "execute_result"
    }
   ],
   "source": [
    "# Checking\n",
    "df['years_used'].unique()"
   ]
  },
  {
   "cell_type": "code",
   "execution_count": 24,
   "id": "674906de",
   "metadata": {},
   "outputs": [],
   "source": [
    "# There is a -1 value in the years_used feature. This may have happened due to some error during listing.\n",
    "df = df[df.years_used > -1]"
   ]
  },
  {
   "cell_type": "code",
   "execution_count": 25,
   "id": "ca353307",
   "metadata": {},
   "outputs": [
    {
     "name": "stdout",
     "output_type": "stream",
     "text": [
      "<class 'pandas.core.frame.DataFrame'>\n",
      "Index: 113284 entries, 31 to 426878\n",
      "Data columns (total 25 columns):\n",
      " #   Column        Non-Null Count   Dtype  \n",
      "---  ------        --------------   -----  \n",
      " 0   id            113284 non-null  int64  \n",
      " 1   url           113284 non-null  object \n",
      " 2   region        113284 non-null  object \n",
      " 3   region_url    113284 non-null  object \n",
      " 4   price         113284 non-null  int64  \n",
      " 5   year          113284 non-null  int64  \n",
      " 6   manufacturer  113284 non-null  object \n",
      " 7   model         113284 non-null  object \n",
      " 8   condition     113284 non-null  object \n",
      " 9   cylinders     113284 non-null  object \n",
      " 10  fuel          113284 non-null  object \n",
      " 11  odometer      113284 non-null  float64\n",
      " 12  title_status  113284 non-null  int64  \n",
      " 13  transmission  113284 non-null  object \n",
      " 14  drive         113284 non-null  object \n",
      " 15  type          113284 non-null  object \n",
      " 16  paint_color   113284 non-null  object \n",
      " 17  image_url     113284 non-null  object \n",
      " 18  description   113284 non-null  object \n",
      " 19  state         113284 non-null  object \n",
      " 20  lat           113284 non-null  float64\n",
      " 21  long          113284 non-null  float64\n",
      " 22  posting_date  113284 non-null  object \n",
      " 23  posting_year  113284 non-null  int64  \n",
      " 24  years_used    113284 non-null  float64\n",
      "dtypes: float64(4), int64(5), object(16)\n",
      "memory usage: 22.5+ MB\n"
     ]
    }
   ],
   "source": [
    "df.info()"
   ]
  },
  {
   "cell_type": "code",
   "execution_count": 26,
   "id": "ad6db39c",
   "metadata": {},
   "outputs": [
    {
     "data": {
      "text/plain": [
       "(113284, 16)"
      ]
     },
     "execution_count": 26,
     "metadata": {},
     "output_type": "execute_result"
    }
   ],
   "source": [
    "# Remove others columns that will not be used.\n",
    "df.drop(columns=['id', 'url', 'region', 'region_url', \n",
    "                 'image_url', 'description',\n",
    "                 'lat', 'long', 'posting_date'], axis=1, inplace=True)\n",
    "df.shape"
   ]
  },
  {
   "cell_type": "code",
   "execution_count": 27,
   "id": "8c8f8f7d",
   "metadata": {},
   "outputs": [
    {
     "data": {
      "text/html": [
       "<div>\n",
       "<style scoped>\n",
       "    .dataframe tbody tr th:only-of-type {\n",
       "        vertical-align: middle;\n",
       "    }\n",
       "\n",
       "    .dataframe tbody tr th {\n",
       "        vertical-align: top;\n",
       "    }\n",
       "\n",
       "    .dataframe thead th {\n",
       "        text-align: right;\n",
       "    }\n",
       "</style>\n",
       "<table border=\"1\" class=\"dataframe\">\n",
       "  <thead>\n",
       "    <tr style=\"text-align: right;\">\n",
       "      <th></th>\n",
       "      <th>price</th>\n",
       "      <th>year</th>\n",
       "      <th>odometer</th>\n",
       "      <th>title_status</th>\n",
       "      <th>posting_year</th>\n",
       "      <th>years_used</th>\n",
       "    </tr>\n",
       "  </thead>\n",
       "  <tbody>\n",
       "    <tr>\n",
       "      <th>count</th>\n",
       "      <td>113284.000000</td>\n",
       "      <td>113284.000000</td>\n",
       "      <td>1.132840e+05</td>\n",
       "      <td>113284.000000</td>\n",
       "      <td>113284.0</td>\n",
       "      <td>113284.000000</td>\n",
       "    </tr>\n",
       "    <tr>\n",
       "      <th>mean</th>\n",
       "      <td>14576.234517</td>\n",
       "      <td>109.191448</td>\n",
       "      <td>1.141232e+05</td>\n",
       "      <td>0.202041</td>\n",
       "      <td>2021.0</td>\n",
       "      <td>11.808552</td>\n",
       "    </tr>\n",
       "    <tr>\n",
       "      <th>std</th>\n",
       "      <td>10558.208033</td>\n",
       "      <td>9.441432</td>\n",
       "      <td>1.915230e+05</td>\n",
       "      <td>0.896090</td>\n",
       "      <td>0.0</td>\n",
       "      <td>9.441432</td>\n",
       "    </tr>\n",
       "    <tr>\n",
       "      <th>min</th>\n",
       "      <td>248.000000</td>\n",
       "      <td>0.000000</td>\n",
       "      <td>0.000000e+00</td>\n",
       "      <td>0.000000</td>\n",
       "      <td>2021.0</td>\n",
       "      <td>0.000000</td>\n",
       "    </tr>\n",
       "    <tr>\n",
       "      <th>25%</th>\n",
       "      <td>6000.000000</td>\n",
       "      <td>106.000000</td>\n",
       "      <td>6.093500e+04</td>\n",
       "      <td>0.000000</td>\n",
       "      <td>2021.0</td>\n",
       "      <td>6.000000</td>\n",
       "    </tr>\n",
       "    <tr>\n",
       "      <th>50%</th>\n",
       "      <td>10999.000000</td>\n",
       "      <td>111.000000</td>\n",
       "      <td>1.062500e+05</td>\n",
       "      <td>0.000000</td>\n",
       "      <td>2021.0</td>\n",
       "      <td>10.000000</td>\n",
       "    </tr>\n",
       "    <tr>\n",
       "      <th>75%</th>\n",
       "      <td>21500.000000</td>\n",
       "      <td>115.000000</td>\n",
       "      <td>1.500000e+05</td>\n",
       "      <td>0.000000</td>\n",
       "      <td>2021.0</td>\n",
       "      <td>15.000000</td>\n",
       "    </tr>\n",
       "    <tr>\n",
       "      <th>max</th>\n",
       "      <td>39990.000000</td>\n",
       "      <td>121.000000</td>\n",
       "      <td>1.000000e+07</td>\n",
       "      <td>5.000000</td>\n",
       "      <td>2021.0</td>\n",
       "      <td>121.000000</td>\n",
       "    </tr>\n",
       "  </tbody>\n",
       "</table>\n",
       "</div>"
      ],
      "text/plain": [
       "               price           year      odometer   title_status  \\\n",
       "count  113284.000000  113284.000000  1.132840e+05  113284.000000   \n",
       "mean    14576.234517     109.191448  1.141232e+05       0.202041   \n",
       "std     10558.208033       9.441432  1.915230e+05       0.896090   \n",
       "min       248.000000       0.000000  0.000000e+00       0.000000   \n",
       "25%      6000.000000     106.000000  6.093500e+04       0.000000   \n",
       "50%     10999.000000     111.000000  1.062500e+05       0.000000   \n",
       "75%     21500.000000     115.000000  1.500000e+05       0.000000   \n",
       "max     39990.000000     121.000000  1.000000e+07       5.000000   \n",
       "\n",
       "       posting_year     years_used  \n",
       "count      113284.0  113284.000000  \n",
       "mean         2021.0      11.808552  \n",
       "std             0.0       9.441432  \n",
       "min          2021.0       0.000000  \n",
       "25%          2021.0       6.000000  \n",
       "50%          2021.0      10.000000  \n",
       "75%          2021.0      15.000000  \n",
       "max          2021.0     121.000000  "
      ]
     },
     "execution_count": 27,
     "metadata": {},
     "output_type": "execute_result"
    }
   ],
   "source": [
    "df.describe()"
   ]
  },
  {
   "cell_type": "code",
   "execution_count": 28,
   "id": "6ce9bdae",
   "metadata": {},
   "outputs": [
    {
     "data": {
      "text/html": [
       "<div>\n",
       "<style scoped>\n",
       "    .dataframe tbody tr th:only-of-type {\n",
       "        vertical-align: middle;\n",
       "    }\n",
       "\n",
       "    .dataframe tbody tr th {\n",
       "        vertical-align: top;\n",
       "    }\n",
       "\n",
       "    .dataframe thead th {\n",
       "        text-align: right;\n",
       "    }\n",
       "</style>\n",
       "<table border=\"1\" class=\"dataframe\">\n",
       "  <thead>\n",
       "    <tr style=\"text-align: right;\">\n",
       "      <th></th>\n",
       "      <th>price</th>\n",
       "      <th>year</th>\n",
       "      <th>manufacturer</th>\n",
       "      <th>model</th>\n",
       "      <th>condition</th>\n",
       "      <th>cylinders</th>\n",
       "      <th>fuel</th>\n",
       "      <th>odometer</th>\n",
       "      <th>title_status</th>\n",
       "      <th>transmission</th>\n",
       "      <th>drive</th>\n",
       "      <th>type</th>\n",
       "      <th>paint_color</th>\n",
       "      <th>state</th>\n",
       "      <th>posting_year</th>\n",
       "      <th>years_used</th>\n",
       "    </tr>\n",
       "  </thead>\n",
       "  <tbody>\n",
       "    <tr>\n",
       "      <th>31</th>\n",
       "      <td>15000</td>\n",
       "      <td>113</td>\n",
       "      <td>ford</td>\n",
       "      <td>f-150 xlt</td>\n",
       "      <td>excellent</td>\n",
       "      <td>6</td>\n",
       "      <td>gas</td>\n",
       "      <td>128000.0</td>\n",
       "      <td>0</td>\n",
       "      <td>automatic</td>\n",
       "      <td>rwd</td>\n",
       "      <td>truck</td>\n",
       "      <td>black</td>\n",
       "      <td>al</td>\n",
       "      <td>2021</td>\n",
       "      <td>8.0</td>\n",
       "    </tr>\n",
       "    <tr>\n",
       "      <th>32</th>\n",
       "      <td>27990</td>\n",
       "      <td>112</td>\n",
       "      <td>gmc</td>\n",
       "      <td>sierra 2500 hd extended cab</td>\n",
       "      <td>good</td>\n",
       "      <td>8</td>\n",
       "      <td>gas</td>\n",
       "      <td>68696.0</td>\n",
       "      <td>0</td>\n",
       "      <td>other</td>\n",
       "      <td>4wd</td>\n",
       "      <td>pickup</td>\n",
       "      <td>black</td>\n",
       "      <td>al</td>\n",
       "      <td>2021</td>\n",
       "      <td>9.0</td>\n",
       "    </tr>\n",
       "    <tr>\n",
       "      <th>33</th>\n",
       "      <td>34590</td>\n",
       "      <td>116</td>\n",
       "      <td>chevrolet</td>\n",
       "      <td>silverado 1500 double</td>\n",
       "      <td>good</td>\n",
       "      <td>6</td>\n",
       "      <td>gas</td>\n",
       "      <td>29499.0</td>\n",
       "      <td>0</td>\n",
       "      <td>other</td>\n",
       "      <td>4wd</td>\n",
       "      <td>pickup</td>\n",
       "      <td>silver</td>\n",
       "      <td>al</td>\n",
       "      <td>2021</td>\n",
       "      <td>5.0</td>\n",
       "    </tr>\n",
       "  </tbody>\n",
       "</table>\n",
       "</div>"
      ],
      "text/plain": [
       "    price  year manufacturer                        model  condition  \\\n",
       "31  15000   113         ford                    f-150 xlt  excellent   \n",
       "32  27990   112          gmc  sierra 2500 hd extended cab       good   \n",
       "33  34590   116    chevrolet        silverado 1500 double       good   \n",
       "\n",
       "   cylinders fuel  odometer  title_status transmission drive    type  \\\n",
       "31         6  gas  128000.0             0    automatic   rwd   truck   \n",
       "32         8  gas   68696.0             0        other   4wd  pickup   \n",
       "33         6  gas   29499.0             0        other   4wd  pickup   \n",
       "\n",
       "   paint_color state  posting_year  years_used  \n",
       "31       black    al          2021         8.0  \n",
       "32       black    al          2021         9.0  \n",
       "33      silver    al          2021         5.0  "
      ]
     },
     "execution_count": 28,
     "metadata": {},
     "output_type": "execute_result"
    }
   ],
   "source": [
    "df.head(3)"
   ]
  },
  {
   "cell_type": "markdown",
   "id": "f5d1493f",
   "metadata": {},
   "source": [
    "# Model fit"
   ]
  },
  {
   "cell_type": "code",
   "execution_count": 29,
   "id": "8a1813fd",
   "metadata": {},
   "outputs": [],
   "source": [
    "# Split features and label.\n",
    "x = df.drop(columns=['price','model','state']) \n",
    "y = df[['price']] "
   ]
  },
  {
   "cell_type": "code",
   "execution_count": 30,
   "id": "7af8076e",
   "metadata": {},
   "outputs": [
    {
     "data": {
      "text/plain": [
       "(113284, 95)"
      ]
     },
     "execution_count": 30,
     "metadata": {},
     "output_type": "execute_result"
    }
   ],
   "source": [
    "# Categorical data encoding.\n",
    "x = pd.get_dummies(x)\n",
    "x.shape"
   ]
  },
  {
   "cell_type": "code",
   "execution_count": 31,
   "id": "125ccd0e",
   "metadata": {},
   "outputs": [],
   "source": [
    "# Split the data into train and test.\n",
    "from sklearn.model_selection import train_test_split\n",
    "x_train, x_test, y_train, y_test = train_test_split(x, y, test_size=0.25, random_state=42) "
   ]
  },
  {
   "cell_type": "code",
   "execution_count": 32,
   "id": "865e9ce6",
   "metadata": {},
   "outputs": [
    {
     "name": "stdout",
     "output_type": "stream",
     "text": [
      "x_train (84963, 95)\n",
      "x_test (28321, 95)\n",
      "y_train (84963, 1)\n",
      "y_test (28321, 1)\n"
     ]
    }
   ],
   "source": [
    "print(f\"x_train {x_train.shape}\")\n",
    "print(f\"x_test {x_test.shape}\")\n",
    "print(f\"y_train {y_train.shape}\")\n",
    "print(f\"y_test {y_test.shape}\")"
   ]
  },
  {
   "cell_type": "code",
   "execution_count": 33,
   "id": "03141424",
   "metadata": {},
   "outputs": [
    {
     "data": {
      "text/plain": [
       "(0.5851382228144646, 0.5947596615926427)"
      ]
     },
     "execution_count": 33,
     "metadata": {},
     "output_type": "execute_result"
    }
   ],
   "source": [
    "# Model 1.\n",
    "from sklearn.linear_model import LinearRegression\n",
    "lm = LinearRegression()\n",
    "lm.fit(x_train, y_train)\n",
    "lm.score(x_train,y_train), lm.score(x_test,y_test)"
   ]
  },
  {
   "cell_type": "code",
   "execution_count": 34,
   "id": "e5714f35",
   "metadata": {},
   "outputs": [
    {
     "data": {
      "text/plain": [
       "(0.05620093452444005, 0.0371102715299601)"
      ]
     },
     "execution_count": 34,
     "metadata": {},
     "output_type": "execute_result"
    }
   ],
   "source": [
    "# Model 2.\n",
    "from sklearn.naive_bayes import GaussianNB\n",
    "gnb = GaussianNB()\n",
    "gnb.fit(x_train, y_train.values.ravel())\n",
    "gnb.score(x_train,y_train), gnb.score(x_test,y_test)"
   ]
  },
  {
   "cell_type": "code",
   "execution_count": 35,
   "id": "2d37dfa0",
   "metadata": {},
   "outputs": [
    {
     "data": {
      "text/plain": [
       "(0.7771969747641241, 0.6450001165369083)"
      ]
     },
     "execution_count": 35,
     "metadata": {},
     "output_type": "execute_result"
    }
   ],
   "source": [
    "# Model 3.\n",
    "from sklearn.neighbors import KNeighborsRegressor\n",
    "neigh = KNeighborsRegressor()\n",
    "neigh.fit(x_train, y_train)\n",
    "neigh.score(x_train,y_train), neigh.score(x_test,y_test)"
   ]
  },
  {
   "cell_type": "code",
   "execution_count": 36,
   "id": "aa61cece",
   "metadata": {},
   "outputs": [
    {
     "data": {
      "text/plain": [
       "(0.8209400327908088, 0.7479459142015579)"
      ]
     },
     "execution_count": 36,
     "metadata": {},
     "output_type": "execute_result"
    }
   ],
   "source": [
    "# Model 4.\n",
    "from sklearn.preprocessing import PolynomialFeatures\n",
    "poly = PolynomialFeatures(degree=2)\n",
    "poly.fit(x_train, x_test)\n",
    "\n",
    "x_train_poly = poly.transform(x_train)\n",
    "x_test_poly = poly.transform(x_test)\n",
    "\n",
    "lm.fit(x_train_poly, y_train)\n",
    "lm.score(x_train_poly,y_train), lm.score(x_test_poly, y_test)"
   ]
  },
  {
   "cell_type": "code",
   "execution_count": 37,
   "id": "dd099f72",
   "metadata": {},
   "outputs": [
    {
     "data": {
      "text/plain": [
       "(0.9476909618253074, 0.8633044121438587)"
      ]
     },
     "execution_count": 37,
     "metadata": {},
     "output_type": "execute_result"
    }
   ],
   "source": [
    "# Model 5.\n",
    "from sklearn.tree import DecisionTreeRegressor\n",
    "dtr = DecisionTreeRegressor(random_state=0, max_depth=1000, \n",
    "                            min_samples_split = 18, min_impurity_decrease = 1.4)\n",
    "dtr.fit(x_train, y_train.values.ravel())\n",
    "dtr.score(x_train,y_train), dtr.score(x_test,y_test)"
   ]
  },
  {
   "cell_type": "code",
   "execution_count": 38,
   "id": "19329ca8",
   "metadata": {},
   "outputs": [
    {
     "name": "stdout",
     "output_type": "stream",
     "text": [
      "0.9879733235408105 0.9142391969378678\n"
     ]
    }
   ],
   "source": [
    "# Model 6.\n",
    "from sklearn.ensemble import RandomForestRegressor\n",
    "random_forest = RandomForestRegressor(n_estimators = 250, max_features = 'sqrt', n_jobs = 20)\n",
    "random_forest.fit(x_train, y_train.values.ravel())\n",
    "print(random_forest.score(x_train, y_train), random_forest.score(x_test, y_test))"
   ]
  },
  {
   "cell_type": "code",
   "execution_count": 39,
   "id": "833c76a7",
   "metadata": {},
   "outputs": [
    {
     "data": {
      "text/plain": [
       "(0.9874294045917419, 0.910042848233898)"
      ]
     },
     "execution_count": 39,
     "metadata": {},
     "output_type": "execute_result"
    }
   ],
   "source": [
    "# Model 7.\n",
    "from sklearn.ensemble import BaggingRegressor\n",
    "bagging = BaggingRegressor(n_estimators = 200, oob_score = True, n_jobs = 10)\n",
    "bagging.fit(x_train, y_train.values.ravel())\n",
    "bagging.score(x_train,y_train), bagging.score(x_test,y_test)"
   ]
  },
  {
   "cell_type": "code",
   "execution_count": 40,
   "id": "b724410f",
   "metadata": {},
   "outputs": [
    {
     "data": {
      "text/plain": [
       "(0.9884429035360699, 0.9111410496642998)"
      ]
     },
     "execution_count": 40,
     "metadata": {},
     "output_type": "execute_result"
    }
   ],
   "source": [
    "# Model 8.\n",
    "from sklearn.ensemble import ExtraTreesRegressor\n",
    "etr = ExtraTreesRegressor(random_state=0, n_estimators = 250, max_features = None, min_samples_split = 6)\n",
    "etr.fit(x_train, y_train.values.ravel())\n",
    "etr.score(x_train,y_train), etr.score(x_test,y_test)"
   ]
  },
  {
   "cell_type": "markdown",
   "id": "4e89c48c",
   "metadata": {},
   "source": [
    "# Choosing the next best algorithm"
   ]
  },
  {
   "cell_type": "code",
   "execution_count": 41,
   "id": "40cc8449",
   "metadata": {},
   "outputs": [],
   "source": [
    "from sklearn.linear_model import LinearRegression, ElasticNet, Lasso, Ridge\n",
    "from sklearn.ensemble import RandomForestRegressor\n",
    "from sklearn.tree import DecisionTreeRegressor\n",
    "\n",
    "def create_models():\n",
    "    models = []\n",
    "    models.append(('Linear Regression', LinearRegression()))\n",
    "    models.append(('Decision Tree Regressor', DecisionTreeRegressor()))\n",
    "    models.append(('ElasticNet_Regressor', ElasticNet()))\n",
    "    models.append(('Lasso_Regressor', Lasso()))\n",
    "    models.append(('Ridge_Regressor', Ridge()))\n",
    "    models.append(('RandomForest_Regressor', RandomForestRegressor()))\n",
    "    return models\n",
    "\n",
    "# creating a list with all the algorithms we are going to assess\n",
    "models = create_models()"
   ]
  },
  {
   "cell_type": "code",
   "execution_count": 42,
   "id": "74815cbc",
   "metadata": {},
   "outputs": [
    {
     "name": "stdout",
     "output_type": "stream",
     "text": [
      " \n",
      "Linear Regression\n",
      "Train R2 : 0.5851382228144646\n",
      "Test R2 : 0.5947596615926427\n",
      "Train RMSE : 6803.4107060806855\n",
      "Test RMSE : 6712.383370179657\n",
      " \n",
      "Decision Tree Regressor\n",
      "Train R2 : 0.9998524550408125\n",
      "Test R2 : 0.8407411662928879\n",
      "Train RMSE : 128.30310471248401\n",
      "Test RMSE : 4207.965626662792\n",
      " \n",
      "ElasticNet_Regressor\n"
     ]
    },
    {
     "name": "stderr",
     "output_type": "stream",
     "text": [
      "/Users/jrdegbe/Desktop/DataMasters/Data_Science_Track/week-ten/day_one/mlops-project/venv/lib/python3.10/site-packages/sklearn/linear_model/_coordinate_descent.py:628: ConvergenceWarning: Objective did not converge. You might want to increase the number of iterations, check the scale of the features or consider increasing regularisation. Duality gap: 2.785e+12, tolerance: 9.479e+08\n",
      "  model = cd_fast.enet_coordinate_descent(\n"
     ]
    },
    {
     "name": "stdout",
     "output_type": "stream",
     "text": [
      "Train R2 : 0.4317774163811997\n",
      "Test R2 : 0.4333864935791243\n",
      "Train RMSE : 7962.220906210727\n",
      "Test RMSE : 7937.13705183911\n",
      " \n",
      "Lasso_Regressor\n",
      "Train R2 : 0.58487082561573\n",
      "Test R2 : 0.594320762185068\n",
      "Train RMSE : 6805.602906010673\n",
      "Test RMSE : 6716.017341859232\n",
      " \n",
      "Ridge_Regressor\n",
      "Train R2 : 0.5851354496917871\n",
      "Test R2 : 0.5947299948924978\n",
      "Train RMSE : 6803.4334445709765\n",
      "Test RMSE : 6712.629064649607\n",
      " \n",
      "RandomForest_Regressor\n"
     ]
    },
    {
     "name": "stderr",
     "output_type": "stream",
     "text": [
      "/Users/jrdegbe/Desktop/DataMasters/Data_Science_Track/week-ten/day_one/mlops-project/venv/lib/python3.10/site-packages/sklearn/base.py:1151: DataConversionWarning: A column-vector y was passed when a 1d array was expected. Please change the shape of y to (n_samples,), for example using ravel().\n",
      "  return fit_method(estimator, *args, **kwargs)\n"
     ]
    },
    {
     "name": "stdout",
     "output_type": "stream",
     "text": [
      "Train R2 : 0.9871355617655366\n",
      "Test R2 : 0.9094180178440874\n",
      "Train RMSE : 1198.0374399978962\n",
      "Test RMSE : 3173.520645835682\n"
     ]
    }
   ],
   "source": [
    "from sklearn.metrics import r2_score, mean_squared_error\n",
    "\n",
    "for name, model in models:\n",
    "    print(\" \")\n",
    "    print(name)\n",
    "    model.fit(x_train, y_train)\n",
    "    y_pred_train = model.predict(x_train)\n",
    "    y_pred_test = model.predict(x_test)\n",
    "    print('Train R2 :', r2_score(y_train, y_pred_train))\n",
    "    print('Test R2 :', r2_score(y_test, y_pred_test))\n",
    "    print('Train RMSE :', np.sqrt(mean_squared_error(y_train, y_pred_train)))\n",
    "    print('Test RMSE :', np.sqrt(mean_squared_error(y_test, y_pred_test)))\n"
   ]
  },
  {
   "cell_type": "markdown",
   "id": "c810f226",
   "metadata": {},
   "source": [
    "# Hyperparameter tuning for Random Forest Regressor"
   ]
  },
  {
   "cell_type": "code",
   "execution_count": 43,
   "id": "eac7b536",
   "metadata": {},
   "outputs": [],
   "source": [
    "from warnings import filterwarnings\n",
    "filterwarnings('ignore')"
   ]
  },
  {
   "cell_type": "code",
   "execution_count": 44,
   "id": "e8f4a848",
   "metadata": {},
   "outputs": [
    {
     "name": "stderr",
     "output_type": "stream",
     "text": [
      "/Users/jrdegbe/Desktop/DataMasters/Data_Science_Track/week-ten/day_one/mlops-project/venv/lib/python3.10/site-packages/sklearn/base.py:1151: DataConversionWarning: A column-vector y was passed when a 1d array was expected. Please change the shape of y to (n_samples,), for example using ravel().\n",
      "  return fit_method(estimator, *args, **kwargs)\n",
      "/Users/jrdegbe/Desktop/DataMasters/Data_Science_Track/week-ten/day_one/mlops-project/venv/lib/python3.10/site-packages/sklearn/base.py:1151: DataConversionWarning: A column-vector y was passed when a 1d array was expected. Please change the shape of y to (n_samples,), for example using ravel().\n",
      "  return fit_method(estimator, *args, **kwargs)\n",
      "/Users/jrdegbe/Desktop/DataMasters/Data_Science_Track/week-ten/day_one/mlops-project/venv/lib/python3.10/site-packages/sklearn/base.py:1151: DataConversionWarning: A column-vector y was passed when a 1d array was expected. Please change the shape of y to (n_samples,), for example using ravel().\n",
      "  return fit_method(estimator, *args, **kwargs)\n",
      "/Users/jrdegbe/Desktop/DataMasters/Data_Science_Track/week-ten/day_one/mlops-project/venv/lib/python3.10/site-packages/sklearn/base.py:1151: DataConversionWarning: A column-vector y was passed when a 1d array was expected. Please change the shape of y to (n_samples,), for example using ravel().\n",
      "  return fit_method(estimator, *args, **kwargs)\n",
      "/Users/jrdegbe/Desktop/DataMasters/Data_Science_Track/week-ten/day_one/mlops-project/venv/lib/python3.10/site-packages/sklearn/base.py:1151: DataConversionWarning: A column-vector y was passed when a 1d array was expected. Please change the shape of y to (n_samples,), for example using ravel().\n",
      "  return fit_method(estimator, *args, **kwargs)\n",
      "/Users/jrdegbe/Desktop/DataMasters/Data_Science_Track/week-ten/day_one/mlops-project/venv/lib/python3.10/site-packages/sklearn/base.py:1151: DataConversionWarning: A column-vector y was passed when a 1d array was expected. Please change the shape of y to (n_samples,), for example using ravel().\n",
      "  return fit_method(estimator, *args, **kwargs)\n",
      "/Users/jrdegbe/Desktop/DataMasters/Data_Science_Track/week-ten/day_one/mlops-project/venv/lib/python3.10/site-packages/sklearn/base.py:1151: DataConversionWarning: A column-vector y was passed when a 1d array was expected. Please change the shape of y to (n_samples,), for example using ravel().\n",
      "  return fit_method(estimator, *args, **kwargs)\n",
      "/Users/jrdegbe/Desktop/DataMasters/Data_Science_Track/week-ten/day_one/mlops-project/venv/lib/python3.10/site-packages/sklearn/base.py:1151: DataConversionWarning: A column-vector y was passed when a 1d array was expected. Please change the shape of y to (n_samples,), for example using ravel().\n",
      "  return fit_method(estimator, *args, **kwargs)\n",
      "/Users/jrdegbe/Desktop/DataMasters/Data_Science_Track/week-ten/day_one/mlops-project/venv/lib/python3.10/site-packages/sklearn/base.py:1151: DataConversionWarning: A column-vector y was passed when a 1d array was expected. Please change the shape of y to (n_samples,), for example using ravel().\n",
      "  return fit_method(estimator, *args, **kwargs)\n",
      "/Users/jrdegbe/Desktop/DataMasters/Data_Science_Track/week-ten/day_one/mlops-project/venv/lib/python3.10/site-packages/sklearn/base.py:1151: DataConversionWarning: A column-vector y was passed when a 1d array was expected. Please change the shape of y to (n_samples,), for example using ravel().\n",
      "  return fit_method(estimator, *args, **kwargs)\n",
      "/Users/jrdegbe/Desktop/DataMasters/Data_Science_Track/week-ten/day_one/mlops-project/venv/lib/python3.10/site-packages/sklearn/base.py:1151: DataConversionWarning: A column-vector y was passed when a 1d array was expected. Please change the shape of y to (n_samples,), for example using ravel().\n",
      "  return fit_method(estimator, *args, **kwargs)\n",
      "/Users/jrdegbe/Desktop/DataMasters/Data_Science_Track/week-ten/day_one/mlops-project/venv/lib/python3.10/site-packages/sklearn/base.py:1151: DataConversionWarning: A column-vector y was passed when a 1d array was expected. Please change the shape of y to (n_samples,), for example using ravel().\n",
      "  return fit_method(estimator, *args, **kwargs)\n",
      "/Users/jrdegbe/Desktop/DataMasters/Data_Science_Track/week-ten/day_one/mlops-project/venv/lib/python3.10/site-packages/sklearn/base.py:1151: DataConversionWarning: A column-vector y was passed when a 1d array was expected. Please change the shape of y to (n_samples,), for example using ravel().\n",
      "  return fit_method(estimator, *args, **kwargs)\n",
      "/Users/jrdegbe/Desktop/DataMasters/Data_Science_Track/week-ten/day_one/mlops-project/venv/lib/python3.10/site-packages/sklearn/base.py:1151: DataConversionWarning: A column-vector y was passed when a 1d array was expected. Please change the shape of y to (n_samples,), for example using ravel().\n",
      "  return fit_method(estimator, *args, **kwargs)\n",
      "/Users/jrdegbe/Desktop/DataMasters/Data_Science_Track/week-ten/day_one/mlops-project/venv/lib/python3.10/site-packages/sklearn/base.py:1151: DataConversionWarning: A column-vector y was passed when a 1d array was expected. Please change the shape of y to (n_samples,), for example using ravel().\n",
      "  return fit_method(estimator, *args, **kwargs)\n"
     ]
    },
    {
     "name": "stdout",
     "output_type": "stream",
     "text": [
      "{'n_estimators': 90, 'min_samples_split': 3, 'max_features': None, 'max_depth': 6}\n"
     ]
    }
   ],
   "source": [
    "from sklearn.model_selection import RandomizedSearchCV\n",
    "\n",
    "grid_parameters = {'n_estimators': [80, 90, 100, 110],'max_depth': [5, 6],\n",
    "                   'max_features': [None, 'auto'], 'min_samples_split': [2, 3]}\n",
    "\n",
    "random_search = RandomizedSearchCV(\n",
    "    estimator=RandomForestRegressor(random_state=1),\n",
    "    param_distributions=grid_parameters,\n",
    "    cv=5,n_iter=10,n_jobs=-1)\n",
    "\n",
    "random_search.fit(x_train, y_train)\n",
    "print(random_search.best_params_)"
   ]
  },
  {
   "cell_type": "code",
   "execution_count": 45,
   "id": "ae831540",
   "metadata": {},
   "outputs": [
    {
     "name": "stdout",
     "output_type": "stream",
     "text": [
      "Train R2 : 0.7675306116893746\n",
      "Test R2 : 0.7719458835063739\n",
      "Train RMSE : 5092.814570718696\n",
      "Test RMSE : 5035.462615794339\n"
     ]
    }
   ],
   "source": [
    "model = RandomForestRegressor(n_estimators=random_search.best_params_.get('n_estimators'),\n",
    "                            max_depth=random_search.best_params_.get('max_depth'),\n",
    "                            min_samples_split=random_search.best_params_.get('min_samples_split'),\n",
    "                            max_features=random_search.best_params_.get('max_features'),\n",
    "                            random_state=1)\n",
    "\n",
    "model.fit(x_train, y_train)\n",
    "y_pred_train = model.predict(x_train)\n",
    "y_pred_test = model.predict(x_test)\n",
    "print('Train R2 :', r2_score(y_train, y_pred_train))\n",
    "print('Test R2 :', r2_score(y_test, y_pred_test))\n",
    "print('Train RMSE :', np.sqrt(mean_squared_error(y_train, y_pred_train)))\n",
    "print('Test RMSE :', np.sqrt(mean_squared_error(y_test, y_pred_test)))"
   ]
  },
  {
   "cell_type": "markdown",
   "id": "e39b2c4e",
   "metadata": {},
   "source": [
    "# XGBoost Algorithm"
   ]
  },
  {
   "cell_type": "code",
   "execution_count": 46,
   "id": "4109d925",
   "metadata": {},
   "outputs": [
    {
     "name": "stdout",
     "output_type": "stream",
     "text": [
      "Train R2 : 0.9049943622498345\n",
      "Test R2 : 0.887458861425053\n",
      "Train RMSE : 3255.739631814906\n",
      "Test RMSE : 3537.3340158135916\n"
     ]
    }
   ],
   "source": [
    "from xgboost import XGBRegressor\n",
    "\n",
    "model = XGBRegressor(random_state=1).fit(x_train,y_train)\n",
    "y_pred_train = model.predict(x_train)\n",
    "y_pred_test = model.predict(x_test)\n",
    "print('Train R2 :', r2_score(y_train, y_pred_train))\n",
    "print('Test R2 :', r2_score(y_test, y_pred_test))\n",
    "print('Train RMSE :', np.sqrt(mean_squared_error(y_train, y_pred_train)))\n",
    "print('Test RMSE :', np.sqrt(mean_squared_error(y_test, y_pred_test)))"
   ]
  },
  {
   "cell_type": "markdown",
   "id": "7223c2c5",
   "metadata": {},
   "source": [
    "# Hyperparameter Tuning for XGBoost Algorithm"
   ]
  },
  {
   "cell_type": "code",
   "execution_count": 47,
   "id": "00e3ca3f",
   "metadata": {},
   "outputs": [],
   "source": [
    "tuning_params = {'learning_rate':[0.1,0.2,0.3,0.4,0.5,0.6],\n",
    "                 'max_depth':range(3,10),\n",
    "                 'gamma':[0,1,2,3,4]}\n",
    "xgb_search = RandomizedSearchCV(\n",
    "    estimator=XGBRegressor(),\n",
    "    param_distributions=tuning_params,\n",
    "    cv=5,n_iter=10,n_jobs=1)\n",
    "\n",
    "xgb_search.fit(x_train, y_train)\n",
    "print(xgb_search.best_params_)"
   ]
  },
  {
   "cell_type": "code",
   "execution_count": null,
   "id": "0e7f42b7",
   "metadata": {},
   "outputs": [],
   "source": [
    "model = XGBRegressor(learning_rate=0.6,max_depth=9,gamma=4).fit(x_train, y_train)\n",
    "y_pred_train = model.predict(x_train)\n",
    "y_pred_test = model.predict(x_test)\n",
    "print('Train R2 :', r2_score(y_train, y_pred_train))\n",
    "print('Test R2 :', r2_score(y_test, y_pred_test))\n",
    "print('Train RMSE :', np.sqrt(mean_squared_error(y_train, y_pred_train)))\n",
    "print('Test RMSE :', np.sqrt(mean_squared_error(y_test, y_pred_test)))"
   ]
  },
  {
   "cell_type": "markdown",
   "id": "3691d4cc",
   "metadata": {},
   "source": [
    "# Save Dataframe"
   ]
  },
  {
   "cell_type": "code",
   "execution_count": null,
   "id": "f08c17d2",
   "metadata": {},
   "outputs": [],
   "source": [
    "df.to_parquet('/Users/jrdegbe/Desktop/DataMasters/Data_Science_Track/week-ten/day_one/mlops-project/models', index=False)"
   ]
  }
 ],
 "metadata": {
  "kernelspec": {
   "display_name": "Python 3 (ipykernel)",
   "language": "python",
   "name": "python3"
  },
  "language_info": {
   "codemirror_mode": {
    "name": "ipython",
    "version": 3
   },
   "file_extension": ".py",
   "mimetype": "text/x-python",
   "name": "python",
   "nbconvert_exporter": "python",
   "pygments_lexer": "ipython3",
   "version": "3.10.0"
  }
 },
 "nbformat": 4,
 "nbformat_minor": 5
}
